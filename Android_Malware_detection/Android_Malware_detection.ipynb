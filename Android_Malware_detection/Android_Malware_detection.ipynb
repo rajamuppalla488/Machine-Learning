{
 "cells": [
  {
   "cell_type": "code",
   "execution_count": 21,
   "metadata": {},
   "outputs": [],
   "source": [
    "#Importing python Libraries to train the dataset with the MAchine learning model\n",
    "from sklearn.naive_bayes import GaussianNB\n",
    "from sklearn.metrics import accuracy_score, classification_report\n",
    "from sklearn.ensemble import BaggingClassifier\n",
    "from sklearn.neighbors import KNeighborsClassifier\n",
    "from sklearn.linear_model import SGDClassifier\n",
    "from sklearn.model_selection import train_test_split\n",
    "from sklearn.metrics import cohen_kappa_score\n"
   ]
  },
  {
   "cell_type": "code",
   "execution_count": 22,
   "metadata": {},
   "outputs": [],
   "source": [
    "from sklearn import preprocessing\n",
    "#import torch\n",
    "from sklearn import svm\n",
    "from sklearn import tree\n",
    "import pandas as pd\n",
    "import pickle\n",
    "import numpy as np\n",
    "import seaborn as sns"
   ]
  },
  {
   "cell_type": "code",
   "execution_count": 23,
   "metadata": {},
   "outputs": [
    {
     "data": {
      "text/html": [
       "<div>\n",
       "<style scoped>\n",
       "    .dataframe tbody tr th:only-of-type {\n",
       "        vertical-align: middle;\n",
       "    }\n",
       "\n",
       "    .dataframe tbody tr th {\n",
       "        vertical-align: top;\n",
       "    }\n",
       "\n",
       "    .dataframe thead th {\n",
       "        text-align: right;\n",
       "    }\n",
       "</style>\n",
       "<table border=\"1\" class=\"dataframe\">\n",
       "  <thead>\n",
       "    <tr style=\"text-align: right;\">\n",
       "      <th></th>\n",
       "      <th>transact</th>\n",
       "      <th>bindService</th>\n",
       "      <th>onServiceConnected</th>\n",
       "      <th>ServiceConnection</th>\n",
       "      <th>android.os.Binder</th>\n",
       "      <th>READ_SMS</th>\n",
       "      <th>attachInterface</th>\n",
       "      <th>WRITE_SMS</th>\n",
       "      <th>TelephonyManager.getSubscriberId</th>\n",
       "      <th>Ljava.lang.Class.getCanonicalName</th>\n",
       "      <th>...</th>\n",
       "      <th>Ljava.lang.Object.getClass</th>\n",
       "      <th>SET_ORIENTATION</th>\n",
       "      <th>DEVICE_POWER</th>\n",
       "      <th>EXPAND_STATUS_BAR</th>\n",
       "      <th>GET_TASKS</th>\n",
       "      <th>GLOBAL_SEARCH</th>\n",
       "      <th>GET_PACKAGE_SIZE</th>\n",
       "      <th>SET_PREFERRED_APPLICATIONS</th>\n",
       "      <th>android.intent.action.PACKAGE_CHANGED</th>\n",
       "      <th>type</th>\n",
       "    </tr>\n",
       "  </thead>\n",
       "  <tbody>\n",
       "    <tr>\n",
       "      <th>0</th>\n",
       "      <td>0</td>\n",
       "      <td>0</td>\n",
       "      <td>0</td>\n",
       "      <td>0</td>\n",
       "      <td>0</td>\n",
       "      <td>0</td>\n",
       "      <td>0</td>\n",
       "      <td>0</td>\n",
       "      <td>0</td>\n",
       "      <td>0</td>\n",
       "      <td>...</td>\n",
       "      <td>1</td>\n",
       "      <td>0</td>\n",
       "      <td>0</td>\n",
       "      <td>0</td>\n",
       "      <td>0</td>\n",
       "      <td>0</td>\n",
       "      <td>0</td>\n",
       "      <td>0</td>\n",
       "      <td>0</td>\n",
       "      <td>0</td>\n",
       "    </tr>\n",
       "    <tr>\n",
       "      <th>1</th>\n",
       "      <td>0</td>\n",
       "      <td>0</td>\n",
       "      <td>0</td>\n",
       "      <td>0</td>\n",
       "      <td>0</td>\n",
       "      <td>1</td>\n",
       "      <td>0</td>\n",
       "      <td>0</td>\n",
       "      <td>1</td>\n",
       "      <td>0</td>\n",
       "      <td>...</td>\n",
       "      <td>1</td>\n",
       "      <td>0</td>\n",
       "      <td>0</td>\n",
       "      <td>0</td>\n",
       "      <td>0</td>\n",
       "      <td>0</td>\n",
       "      <td>0</td>\n",
       "      <td>0</td>\n",
       "      <td>0</td>\n",
       "      <td>0</td>\n",
       "    </tr>\n",
       "    <tr>\n",
       "      <th>2</th>\n",
       "      <td>0</td>\n",
       "      <td>0</td>\n",
       "      <td>0</td>\n",
       "      <td>0</td>\n",
       "      <td>0</td>\n",
       "      <td>0</td>\n",
       "      <td>0</td>\n",
       "      <td>0</td>\n",
       "      <td>0</td>\n",
       "      <td>0</td>\n",
       "      <td>...</td>\n",
       "      <td>0</td>\n",
       "      <td>0</td>\n",
       "      <td>0</td>\n",
       "      <td>0</td>\n",
       "      <td>0</td>\n",
       "      <td>0</td>\n",
       "      <td>0</td>\n",
       "      <td>0</td>\n",
       "      <td>0</td>\n",
       "      <td>0</td>\n",
       "    </tr>\n",
       "    <tr>\n",
       "      <th>3</th>\n",
       "      <td>0</td>\n",
       "      <td>0</td>\n",
       "      <td>0</td>\n",
       "      <td>0</td>\n",
       "      <td>0</td>\n",
       "      <td>1</td>\n",
       "      <td>0</td>\n",
       "      <td>1</td>\n",
       "      <td>1</td>\n",
       "      <td>0</td>\n",
       "      <td>...</td>\n",
       "      <td>1</td>\n",
       "      <td>0</td>\n",
       "      <td>0</td>\n",
       "      <td>0</td>\n",
       "      <td>0</td>\n",
       "      <td>0</td>\n",
       "      <td>0</td>\n",
       "      <td>0</td>\n",
       "      <td>0</td>\n",
       "      <td>0</td>\n",
       "    </tr>\n",
       "    <tr>\n",
       "      <th>4</th>\n",
       "      <td>1</td>\n",
       "      <td>1</td>\n",
       "      <td>1</td>\n",
       "      <td>1</td>\n",
       "      <td>1</td>\n",
       "      <td>1</td>\n",
       "      <td>1</td>\n",
       "      <td>1</td>\n",
       "      <td>1</td>\n",
       "      <td>1</td>\n",
       "      <td>...</td>\n",
       "      <td>1</td>\n",
       "      <td>0</td>\n",
       "      <td>1</td>\n",
       "      <td>0</td>\n",
       "      <td>0</td>\n",
       "      <td>0</td>\n",
       "      <td>0</td>\n",
       "      <td>0</td>\n",
       "      <td>0</td>\n",
       "      <td>0</td>\n",
       "    </tr>\n",
       "    <tr>\n",
       "      <th>...</th>\n",
       "      <td>...</td>\n",
       "      <td>...</td>\n",
       "      <td>...</td>\n",
       "      <td>...</td>\n",
       "      <td>...</td>\n",
       "      <td>...</td>\n",
       "      <td>...</td>\n",
       "      <td>...</td>\n",
       "      <td>...</td>\n",
       "      <td>...</td>\n",
       "      <td>...</td>\n",
       "      <td>...</td>\n",
       "      <td>...</td>\n",
       "      <td>...</td>\n",
       "      <td>...</td>\n",
       "      <td>...</td>\n",
       "      <td>...</td>\n",
       "      <td>...</td>\n",
       "      <td>...</td>\n",
       "      <td>...</td>\n",
       "      <td>...</td>\n",
       "    </tr>\n",
       "    <tr>\n",
       "      <th>3794</th>\n",
       "      <td>0</td>\n",
       "      <td>1</td>\n",
       "      <td>1</td>\n",
       "      <td>1</td>\n",
       "      <td>0</td>\n",
       "      <td>0</td>\n",
       "      <td>0</td>\n",
       "      <td>0</td>\n",
       "      <td>0</td>\n",
       "      <td>1</td>\n",
       "      <td>...</td>\n",
       "      <td>1</td>\n",
       "      <td>0</td>\n",
       "      <td>0</td>\n",
       "      <td>0</td>\n",
       "      <td>0</td>\n",
       "      <td>0</td>\n",
       "      <td>0</td>\n",
       "      <td>0</td>\n",
       "      <td>0</td>\n",
       "      <td>1</td>\n",
       "    </tr>\n",
       "    <tr>\n",
       "      <th>3795</th>\n",
       "      <td>1</td>\n",
       "      <td>1</td>\n",
       "      <td>1</td>\n",
       "      <td>1</td>\n",
       "      <td>1</td>\n",
       "      <td>0</td>\n",
       "      <td>1</td>\n",
       "      <td>0</td>\n",
       "      <td>0</td>\n",
       "      <td>1</td>\n",
       "      <td>...</td>\n",
       "      <td>1</td>\n",
       "      <td>0</td>\n",
       "      <td>0</td>\n",
       "      <td>0</td>\n",
       "      <td>0</td>\n",
       "      <td>0</td>\n",
       "      <td>0</td>\n",
       "      <td>0</td>\n",
       "      <td>0</td>\n",
       "      <td>1</td>\n",
       "    </tr>\n",
       "    <tr>\n",
       "      <th>3796</th>\n",
       "      <td>0</td>\n",
       "      <td>0</td>\n",
       "      <td>0</td>\n",
       "      <td>0</td>\n",
       "      <td>0</td>\n",
       "      <td>0</td>\n",
       "      <td>0</td>\n",
       "      <td>0</td>\n",
       "      <td>0</td>\n",
       "      <td>0</td>\n",
       "      <td>...</td>\n",
       "      <td>1</td>\n",
       "      <td>0</td>\n",
       "      <td>0</td>\n",
       "      <td>0</td>\n",
       "      <td>0</td>\n",
       "      <td>0</td>\n",
       "      <td>0</td>\n",
       "      <td>0</td>\n",
       "      <td>0</td>\n",
       "      <td>1</td>\n",
       "    </tr>\n",
       "    <tr>\n",
       "      <th>3797</th>\n",
       "      <td>1</td>\n",
       "      <td>1</td>\n",
       "      <td>1</td>\n",
       "      <td>1</td>\n",
       "      <td>1</td>\n",
       "      <td>0</td>\n",
       "      <td>1</td>\n",
       "      <td>0</td>\n",
       "      <td>0</td>\n",
       "      <td>1</td>\n",
       "      <td>...</td>\n",
       "      <td>1</td>\n",
       "      <td>0</td>\n",
       "      <td>0</td>\n",
       "      <td>0</td>\n",
       "      <td>0</td>\n",
       "      <td>0</td>\n",
       "      <td>0</td>\n",
       "      <td>0</td>\n",
       "      <td>0</td>\n",
       "      <td>1</td>\n",
       "    </tr>\n",
       "    <tr>\n",
       "      <th>3798</th>\n",
       "      <td>0</td>\n",
       "      <td>0</td>\n",
       "      <td>0</td>\n",
       "      <td>0</td>\n",
       "      <td>0</td>\n",
       "      <td>0</td>\n",
       "      <td>0</td>\n",
       "      <td>0</td>\n",
       "      <td>0</td>\n",
       "      <td>0</td>\n",
       "      <td>...</td>\n",
       "      <td>0</td>\n",
       "      <td>0</td>\n",
       "      <td>0</td>\n",
       "      <td>0</td>\n",
       "      <td>0</td>\n",
       "      <td>0</td>\n",
       "      <td>0</td>\n",
       "      <td>0</td>\n",
       "      <td>0</td>\n",
       "      <td>1</td>\n",
       "    </tr>\n",
       "  </tbody>\n",
       "</table>\n",
       "<p>3799 rows × 216 columns</p>\n",
       "</div>"
      ],
      "text/plain": [
       "      transact  bindService  onServiceConnected  ServiceConnection  \\\n",
       "0            0            0                   0                  0   \n",
       "1            0            0                   0                  0   \n",
       "2            0            0                   0                  0   \n",
       "3            0            0                   0                  0   \n",
       "4            1            1                   1                  1   \n",
       "...        ...          ...                 ...                ...   \n",
       "3794         0            1                   1                  1   \n",
       "3795         1            1                   1                  1   \n",
       "3796         0            0                   0                  0   \n",
       "3797         1            1                   1                  1   \n",
       "3798         0            0                   0                  0   \n",
       "\n",
       "      android.os.Binder  READ_SMS  attachInterface  WRITE_SMS  \\\n",
       "0                     0         0                0          0   \n",
       "1                     0         1                0          0   \n",
       "2                     0         0                0          0   \n",
       "3                     0         1                0          1   \n",
       "4                     1         1                1          1   \n",
       "...                 ...       ...              ...        ...   \n",
       "3794                  0         0                0          0   \n",
       "3795                  1         0                1          0   \n",
       "3796                  0         0                0          0   \n",
       "3797                  1         0                1          0   \n",
       "3798                  0         0                0          0   \n",
       "\n",
       "      TelephonyManager.getSubscriberId  Ljava.lang.Class.getCanonicalName  \\\n",
       "0                                    0                                  0   \n",
       "1                                    1                                  0   \n",
       "2                                    0                                  0   \n",
       "3                                    1                                  0   \n",
       "4                                    1                                  1   \n",
       "...                                ...                                ...   \n",
       "3794                                 0                                  1   \n",
       "3795                                 0                                  1   \n",
       "3796                                 0                                  0   \n",
       "3797                                 0                                  1   \n",
       "3798                                 0                                  0   \n",
       "\n",
       "      ...  Ljava.lang.Object.getClass  SET_ORIENTATION  DEVICE_POWER  \\\n",
       "0     ...                           1                0             0   \n",
       "1     ...                           1                0             0   \n",
       "2     ...                           0                0             0   \n",
       "3     ...                           1                0             0   \n",
       "4     ...                           1                0             1   \n",
       "...   ...                         ...              ...           ...   \n",
       "3794  ...                           1                0             0   \n",
       "3795  ...                           1                0             0   \n",
       "3796  ...                           1                0             0   \n",
       "3797  ...                           1                0             0   \n",
       "3798  ...                           0                0             0   \n",
       "\n",
       "      EXPAND_STATUS_BAR  GET_TASKS  GLOBAL_SEARCH  GET_PACKAGE_SIZE  \\\n",
       "0                     0          0              0                 0   \n",
       "1                     0          0              0                 0   \n",
       "2                     0          0              0                 0   \n",
       "3                     0          0              0                 0   \n",
       "4                     0          0              0                 0   \n",
       "...                 ...        ...            ...               ...   \n",
       "3794                  0          0              0                 0   \n",
       "3795                  0          0              0                 0   \n",
       "3796                  0          0              0                 0   \n",
       "3797                  0          0              0                 0   \n",
       "3798                  0          0              0                 0   \n",
       "\n",
       "      SET_PREFERRED_APPLICATIONS  android.intent.action.PACKAGE_CHANGED  type  \n",
       "0                              0                                      0     0  \n",
       "1                              0                                      0     0  \n",
       "2                              0                                      0     0  \n",
       "3                              0                                      0     0  \n",
       "4                              0                                      0     0  \n",
       "...                          ...                                    ...   ...  \n",
       "3794                           0                                      0     1  \n",
       "3795                           0                                      0     1  \n",
       "3796                           0                                      0     1  \n",
       "3797                           0                                      0     1  \n",
       "3798                           0                                      0     1  \n",
       "\n",
       "[3799 rows x 216 columns]"
      ]
     },
     "execution_count": 23,
     "metadata": {},
     "output_type": "execute_result"
    }
   ],
   "source": [
    "#Loading the dataset with python library called Pandas\n",
    "import pandas as pd\n",
    "df = pd.read_csv('malgenome215dataset1260malware2539benign.csv')\n",
    "df"
   ]
  },
  {
   "cell_type": "code",
   "execution_count": 24,
   "metadata": {},
   "outputs": [
    {
     "data": {
      "text/plain": [
       "(3799, 216)"
      ]
     },
     "execution_count": 24,
     "metadata": {},
     "output_type": "execute_result"
    }
   ],
   "source": [
    "#Checking the shape of the dataset which has 3799 rows and 216 columns\n",
    "df.shape"
   ]
  },
  {
   "cell_type": "code",
   "execution_count": 25,
   "metadata": {},
   "outputs": [
    {
     "data": {
      "text/plain": [
       "1    2539\n",
       "0    1260\n",
       "Name: type, dtype: int64"
      ]
     },
     "execution_count": 25,
     "metadata": {},
     "output_type": "execute_result"
    }
   ],
   "source": [
    "#number of benign and malicious\n",
    "#Type is the label that represents if an application is a malware or not, as we can see this dataset is balanced.\n",
    "df.type.value_counts()"
   ]
  },
  {
   "cell_type": "code",
   "execution_count": 26,
   "metadata": {},
   "outputs": [
    {
     "data": {
      "text/plain": [
       "Binder                            2198\n",
       "IBinder                           2174\n",
       "android.os.IBinder                2174\n",
       "INTERNET                          2098\n",
       "Ljava.lang.Object.getClass        2065\n",
       "android.content.pm.PackageInfo    2008\n",
       "ACCESS_NETWORK_STATE              1943\n",
       "onBind                            1813\n",
       "Ljava.lang.Class.forName          1788\n",
       "android.os.Binder                 1781\n",
       "dtype: int64"
      ]
     },
     "execution_count": 26,
     "metadata": {},
     "output_type": "execute_result"
    }
   ],
   "source": [
    "#Malicious activities from the dataset\n",
    "pd.Series.sort_values(df[df.type==1].sum(axis=0), ascending=False)[1:11]"
   ]
  },
  {
   "cell_type": "code",
   "execution_count": 27,
   "metadata": {},
   "outputs": [
    {
     "data": {
      "text/plain": [
       "INTERNET                                1232\n",
       "Binder                                  1189\n",
       "android.os.IBinder                      1189\n",
       "IBinder                                 1189\n",
       "READ_PHONE_STATE                        1179\n",
       "onBind                                  1170\n",
       "TelephonyManager.getDeviceId            1095\n",
       "android.intent.action.BOOT_COMPLETED    1061\n",
       "android.content.pm.PackageInfo          1052\n",
       "Ljava.lang.Object.getClass              1042\n",
       "dtype: int64"
      ]
     },
     "execution_count": 27,
     "metadata": {},
     "output_type": "execute_result"
    }
   ],
   "source": [
    "#Benign activities from the dataset\n",
    "pd.Series.sort_values(df[df.type==0].sum(axis=0), ascending=False)[:10]"
   ]
  },
  {
   "cell_type": "code",
   "execution_count": 28,
   "metadata": {},
   "outputs": [
    {
     "data": {
      "text/plain": [
       "<AxesSubplot:>"
      ]
     },
     "execution_count": 28,
     "metadata": {},
     "output_type": "execute_result"
    },
    {
     "data": {
      "image/png": "[encoded data removed]",
      "text/plain": [
       "<Figure size 432x288 with 2 Axes>"
      ]
     },
     "metadata": {
      "needs_background": "light"
     },
     "output_type": "display_data"
    }
   ],
   "source": [
    "#The plot depicts the various permission from various application in the android system\n",
    "import matplotlib.pyplot as plt\n",
    "fig, axs =  plt.subplots(nrows=2, sharex=True)\n",
    "\n",
    "pd.Series.sort_values(df[df.type==0].sum(axis=0), ascending=False)[:10].plot.bar(ax=axs[0])\n",
    "pd.Series.sort_values(df[df.type==1].sum(axis=0), ascending=False)[1:11].plot.bar(ax=axs[1], color=\"green\")"
   ]
  },
  {
   "cell_type": "code",
   "execution_count": 29,
   "metadata": {},
   "outputs": [],
   "source": [
    "#Modeling\n",
    "#Here we are splitting the dataset into training and testing subset for the model training using machine learning algorithm\n",
    "X_train, X_test, y_train, y_test = train_test_split(df.iloc[:, 1:330], df['type'], test_size=0.20, random_state=42)"
   ]
  },
  {
   "cell_type": "code",
   "execution_count": 30,
   "metadata": {},
   "outputs": [
    {
     "name": "stdout",
     "output_type": "stream",
     "text": [
      "naive_bayes\n",
      "0.9986842105263158\n",
      "              precision    recall  f1-score   support\n",
      "\n",
      "           0       1.00      1.00      1.00       265\n",
      "           1       1.00      1.00      1.00       495\n",
      "\n",
      "    accuracy                           1.00       760\n",
      "   macro avg       1.00      1.00      1.00       760\n",
      "weighted avg       1.00      1.00      1.00       760\n",
      "\n",
      "Training time: 0.0060045719146728516s\n"
     ]
    }
   ],
   "source": [
    "# Naive Bayes algorithm (yes)\n",
    "gnb = GaussianNB()\n",
    "gnb.fit(X_train, y_train)\n",
    "\n",
    "# pred\n",
    "pred = gnb.predict(X_test)\n",
    "\n",
    "# accuracy\n",
    "accuracy = accuracy_score(pred, y_test)\n",
    "print(\"naive_bayes\")\n",
    "print(accuracy)\n",
    "print(classification_report(pred, y_test, labels=None))\n",
    "\n",
    "import time\n",
    "start = time.time()\n",
    "gnb.fit(X_test, y_test)\n",
    "stop = time.time()\n",
    "print(f\"Training time: {stop - start}s\")"
   ]
  },
  {
   "cell_type": "code",
   "execution_count": 31,
   "metadata": {},
   "outputs": [
    {
     "name": "stdout",
     "output_type": "stream",
     "text": [
      "DecisionTreeClassifier()\n",
      "1.0\n",
      "              precision    recall  f1-score   support\n",
      "\n",
      "           0       1.00      1.00      1.00       266\n",
      "           1       1.00      1.00      1.00       494\n",
      "\n",
      "    accuracy                           1.00       760\n",
      "   macro avg       1.00      1.00      1.00       760\n",
      "weighted avg       1.00      1.00      1.00       760\n",
      "\n",
      "Training time: 0.003986835479736328s\n"
     ]
    }
   ],
   "source": [
    "#Decision Tree (yes)\n",
    "clf = tree.DecisionTreeClassifier()\n",
    "clf.fit(X_train, y_train)\n",
    "\n",
    "pred = clf.predict(X_test)\n",
    "# accuracy\n",
    "accuracy = accuracy_score(pred, y_test)\n",
    "print(clf)\n",
    "print(accuracy)\n",
    "print(classification_report(pred, y_test, labels=None))\n",
    "\n",
    "import time\n",
    "start = time.time()\n",
    "clf.fit(X_test, y_test)\n",
    "stop = time.time()\n",
    "print(f\"Training time: {stop - start}s\")"
   ]
  },
  {
   "cell_type": "code",
   "execution_count": 32,
   "metadata": {},
   "outputs": [
    {
     "name": "stdout",
     "output_type": "stream",
     "text": [
      "SVC(kernel='linear')\n",
      "Accuracy: 1.0\n",
      "              precision    recall  f1-score   support\n",
      "\n",
      "           0       1.00      1.00      1.00       266\n",
      "           1       1.00      1.00      1.00       494\n",
      "\n",
      "    accuracy                           1.00       760\n",
      "   macro avg       1.00      1.00      1.00       760\n",
      "weighted avg       1.00      1.00      1.00       760\n",
      "\n",
      "Training time: 0.01694321632385254s\n"
     ]
    }
   ],
   "source": [
    "#Import svm model\n",
    "from sklearn import svm\n",
    "\n",
    "#Create a svm Classifier\n",
    "clf = svm.SVC(kernel='linear') # Linear Kernel\n",
    "\n",
    "#Train the model using the training sets\n",
    "clf.fit(X_train, y_train)\n",
    "\n",
    "#Predict the response for test dataset\n",
    "y_pred = clf.predict(X_test)\n",
    "\n",
    "#Import scikit-learn metrics module for accuracy calculation\n",
    "from sklearn import metrics\n",
    "\n",
    "# Model Accuracy: how often is the classifier correct?\n",
    "print(clf)\n",
    "print(\"Accuracy:\",metrics.accuracy_score(y_test, y_pred))\n",
    "\n",
    "print(classification_report(pred, y_test, labels=None))\n",
    "\n",
    "import time\n",
    "start = time.time()\n",
    "clf.fit(X_test, y_test)\n",
    "stop = time.time()\n",
    "print(f\"Training time: {stop - start}s\")"
   ]
  },
  {
   "cell_type": "code",
   "execution_count": 33,
   "metadata": {},
   "outputs": [
    {
     "name": "stdout",
     "output_type": "stream",
     "text": [
      "Precision: 1.0\n",
      "Recall: 1.0\n"
     ]
    }
   ],
   "source": [
    "# Model Precision: what percentage of positive tuples are labeled as such?\n",
    "#Precision is the fraction of information retrieved that are relevant.\n",
    "print(\"Precision:\",metrics.precision_score(y_test, y_pred))\n",
    "\n",
    "# Model Recall: what percentage of positive tuples are labelled as such?\n",
    "#Recall is the fraction of relevant information that are retrieved.\n",
    "print(\"Recall:\",metrics.recall_score(y_test, y_pred))"
   ]
  },
  {
   "cell_type": "code",
   "execution_count": 34,
   "metadata": {},
   "outputs": [
    {
     "name": "stdout",
     "output_type": "stream",
     "text": [
      "GradientBoostingClassifier(learning_rate=0.5, max_depth=2, max_features=2,\n",
      "                           n_estimators=20, random_state=0)\n",
      "Classification Report\n",
      "              precision    recall  f1-score   support\n",
      "\n",
      "           0       0.98      0.88      0.93       266\n",
      "           1       0.94      0.99      0.97       494\n",
      "\n",
      "    accuracy                           0.95       760\n",
      "   macro avg       0.96      0.94      0.95       760\n",
      "weighted avg       0.96      0.95      0.95       760\n",
      "\n",
      "Training time: 0.008972644805908203s\n"
     ]
    }
   ],
   "source": [
    "# import machine learning algorithms\n",
    "from sklearn.ensemble import GradientBoostingClassifier\n",
    "from sklearn.metrics import classification_report, confusion_matrix, roc_curve, auc\n",
    "\n",
    "# train with Gradient Boosting algorithm\n",
    "# compute the accuracy scores on train and validation sets when training with different learning rates\n",
    "\n",
    "learning_rates = [0.05, 0.1, 0.25, 0.5, 0.75, 1]\n",
    "for learning_rate in learning_rates:\n",
    "    gb = GradientBoostingClassifier(n_estimators=20, learning_rate = learning_rate, max_features=2, max_depth = 2, random_state = 0)\n",
    "    gb.fit(X_train, y_train)\n",
    "\n",
    "    \n",
    "# Output confusion matrix and classification report of Gradient Boosting algorithm on validation set\n",
    "\n",
    "gb = GradientBoostingClassifier(n_estimators=20, learning_rate = 0.5, max_features=2, max_depth = 2, random_state = 0)\n",
    "gb.fit(X_train, y_train)\n",
    "predictions = gb.predict(X_test)\n",
    "\n",
    "print(gb)\n",
    "print(\"Classification Report\")\n",
    "print(classification_report(y_test, predictions))\n",
    "\n",
    "import time\n",
    "start = time.time()\n",
    "gb.fit(X_test, y_test)\n",
    "stop = time.time()\n",
    "print(f\"Training time: {stop - start}s\")"
   ]
  },
  {
   "cell_type": "code",
   "execution_count": 35,
   "metadata": {},
   "outputs": [],
   "source": [
    "#Desicion tree\n",
    "#gradient boosting algorithm\n",
    "#SVM\n",
    "#naive Bayes\n",
    "#To tabulate the result we import tabulate library from python."
   ]
  },
  {
   "cell_type": "code",
   "execution_count": 36,
   "metadata": {},
   "outputs": [
    {
     "name": "stdout",
     "output_type": "stream",
     "text": [
      "Requirement already satisfied: tabulate in c:\\users\\muppa\\appdata\\local\\programs\\python\\python38\\lib\\site-packages (0.8.7)\n"
     ]
    }
   ],
   "source": [
    "!pip install tabulate"
   ]
  },
  {
   "cell_type": "code",
   "execution_count": 38,
   "metadata": {},
   "outputs": [
    {
     "name": "stdout",
     "output_type": "stream",
     "text": [
      "Algorithm                 Accuracy    f1-Score    Training Time\n",
      "----------------------  ----------  ----------  ---------------\n",
      "Decision Tree                 0.97        0.98            5.383\n",
      "Gradient Boost                0.95        0.96            6.939\n",
      "Support Vector Machine        0.98        0.69            7.249\n",
      "Naive Bayes                   0.67        0.69            6.204\n"
     ]
    }
   ],
   "source": [
    "from tabulate import tabulate\n",
    "\n",
    "algo_table = [(\"Decision Tree\",  \"0.97\" ,\"0.98\",\" 5.383\"), \n",
    "              (\"Gradient Boost\",\"0.95\",\"0.96\",\"6.939\"), \n",
    "              (\"Support Vector Machine\", \"0.98\",\"0.69\",\"7.249\"),\n",
    "             (\"Naive Bayes\" ,\"0.67\",\"0.69\",\" 6.204\")]\n",
    "\n",
    "headers = [\"Algorithm\",\"Accuracy\",\"f1-Score\",\"Training Time\"]\n",
    "\n",
    "print(tabulate(algo_table, headers))"
   ]
  },
  {
   "cell_type": "code",
   "execution_count": null,
   "metadata": {},
   "outputs": [],
   "source": []
  }
 ],
 "metadata": {
  "kernelspec": {
   "display_name": "Python 3",
   "language": "python",
   "name": "python3"
  },
  "language_info": {
   "codemirror_mode": {
    "name": "ipython",
    "version": 3
   },
   "file_extension": ".py",
   "mimetype": "text/x-python",
   "name": "python",
   "nbconvert_exporter": "python",
   "pygments_lexer": "ipython3",
   "version": "3.8.6"
  }
 },
 "nbformat": 4,
 "nbformat_minor": 4
}
